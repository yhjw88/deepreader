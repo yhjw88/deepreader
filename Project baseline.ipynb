{
 "cells": [
  {
   "cell_type": "code",
   "execution_count": 59,
   "metadata": {
    "collapsed": false
   },
   "outputs": [],
   "source": [
    "import csv\n",
    "import math\n",
    "import numpy as np\n",
    "\n",
    "reader = csv.reader(open('proposalDataTrain.csv', 'rU'))\n",
    "next(reader)\n",
    "\n",
    "train=[]\n",
    "trainlabels=[]\n",
    "for row in reader:\n",
    "    sentence,label=row[0],row[1]\n",
    "    train.append(sentence)\n",
    "    trainlabels.append(int(label))\n",
    "\n",
    "#train\n",
    "#get fluency (probabilities that certain bi-grams occur in wikipedia/news)\n",
    "fluency1={}\n",
    "counts1={}\n",
    "fluency0={}\n",
    "counts0={}\n",
    "for sentence in range(len(train)):\n",
    "    train[sentence].strip(' ')\n",
    "    train[sentence].strip('.')\n",
    "    l=train[sentence].split(' ')\n",
    "    for i in range(len(l)-1):\n",
    "        if trainlabels[sentence]==1:\n",
    "            if l[i] not in counts1:\n",
    "                counts1[l[i]]=0\n",
    "            counts1[l[i]]+=1\n",
    "            if (l[i],l[i+1]) not in fluency1:\n",
    "                fluency1[(l[i],l[i+1])]=0\n",
    "            fluency1[(l[i],l[i+1])]+=1\n",
    "        if trainlabels[sentence]==0:\n",
    "            if l[i] not in counts0:\n",
    "                counts0[l[i]]=0\n",
    "            counts0[l[i]]+=1\n",
    "            if (l[i],l[i+1]) not in fluency0:\n",
    "                fluency0[(l[i],l[i+1])]=0\n",
    "            fluency0[(l[i],l[i+1])]+=1\n",
    "for key in fluency0.keys():\n",
    "    fluency0[key]=float(fluency0[key])/counts0[key[0]]\n",
    "for key in fluency1.keys():\n",
    "    fluency1[key]=float(fluency1[key])/counts1[key[0]]"
   ]
  },
  {
   "cell_type": "code",
   "execution_count": 64,
   "metadata": {
    "collapsed": false
   },
   "outputs": [
    {
     "name": "stdout",
     "output_type": "stream",
     "text": [
      "0.19\n"
     ]
    }
   ],
   "source": [
    "#test\n",
    "reader = csv.reader(open('proposalDataDev.csv', 'rU'))\n",
    "next(reader)\n",
    "\n",
    "test=[]\n",
    "testlabels=[]\n",
    "for row in reader:\n",
    "    sentence,label=row[0],row[1]\n",
    "    test.append(sentence)\n",
    "    testlabels.append(int(label))\n",
    "    \n",
    "output=[]\n",
    "for sentence in range(len(test)):\n",
    "    test[sentence].strip(' ')\n",
    "    test[sentence].strip('.')\n",
    "    l=test[sentence].split(' ')\n",
    "    score0,score1=(0,0)\n",
    "    for i in range(len(l)-1):\n",
    "        score0+=fluency0.get((l[i],l[i+1]),0)\n",
    "        score1+=fluency1.get((l[i],l[i+1]),0)\n",
    "    if score0>score1:\n",
    "        output.append(0)\n",
    "    else:\n",
    "        output.append(1)\n",
    "print float(sum([i!=j for i,j in zip(output,testlabels)]))/len(output)"
   ]
  },
  {
   "cell_type": "code",
   "execution_count": 6,
   "metadata": {
    "collapsed": false
   },
   "outputs": [],
   "source": [
    "#web scraping\n",
    "import requests\n",
    "from bs4 import BeautifulSoup"
   ]
  },
  {
   "cell_type": "code",
   "execution_count": null,
   "metadata": {
    "collapsed": false
   },
   "outputs": [],
   "source": [
    "#logistic regression for document matching task\n",
    "#feature matrix:\n",
    "#(wiki-article pair)  #common words count   #has common words in headline(dummy)  \n",
    "#(w1,a1)              #50                   #1\n",
    "def featureExtraction()"
   ]
  },
  {
   "cell_type": "code",
   "execution_count": 37,
   "metadata": {
    "collapsed": false
   },
   "outputs": [
    {
     "name": "stdout",
     "output_type": "stream",
     "text": [
      "   vidConfig.push({ videoArray : [ {id : \"/video/technology/2017/09/19/iphone-8-whats-new.cnnmoney\", collection: \"\", hed : \"iPhone 8: What\\'s new?\"}, {id : \"/video/technology/gadgets/2017/09/12/apple-unveils-iphone-8-and-iphone-8-plus.cnnmoney\", collection: \"\", hed : \"Apple\\'s new iPhone 8, iPhone 8 Plus in :90\"} ], loc : 'top', autoplay : true, playerprofile : 'story', playerid : 'cvp_story_0', hedtarget : '#cnnplayer0 .cnnHeadline', divid : 'vid0' });          iPhone 8: What's new?     \n",
      "Apple has put its new iPhone 8 and iPhone 8 Plus in a tight spot.  As with pretty much every Apple upgrade, they will be the best iPhones available when they hit store shelves this Friday. But they exist in the shadow of the possibly superior iPhone X, in all its face-detecting and home-button killing glory. That more expensive device won't be available until Nov. 3, leaving many iPhone buyers wondering if they should upgrade or wait.     After a week of testing, it's clear the 4.7-inch iPhone 8 and 5.5-inch iPhone 8 Plus offer solid if moderate improvements, including better cameras, a faster processor and inductive charging. They easily could have been called the iPhone 7s and 7s Plus, but that wouldn't have been as dramatic.   Regular folks: Charging made easy      The biggest iPhone 8 change is the addition of \"wireless\" charging, which lets you rest an iPhone on a special surface to recharge it. You can still charge the iPhone 8 the old fashioned way — by sticking an Apple Lightning connector into the port at the base of the device.    In a refreshing change for Apple, it didn't add yet another proprietary technology. The iPhone 8 uses the existing Qi standard, which means it can work with third-party devices. Apple doesn't include a wireless charger with the iPhone 8. They're sold separately by companies like Mophie and Belkin, and start at around $15.   The inductive charging surfaces mostly look like coasters and plug into a wall. The phone must touch the charger, but it worked through the various iPhone cases we tested.   Related: Order an iPhone 8 today or wait for the X?   Apple (AAPL, Tech30) is not doing anything revolutionary here — a number of Samsung devices already support the Qi standard. But it feels like a real improvement over the wired charging, especially if you plop your phone down in the same spot every night before bed.   It also somewhat solves one of the iPhone 7's most vexing problems, caused by the removal of the headphone jack. Since the Lightning port is now free, you can listen to music and charge your phone at the same time again.   The photographer: Better camera sensor and new filters   The new camera sensors are still 12 megapixels, but Apple says the sensors are larger and have \"deeper\" pixels, meaning the pixel-well on the sensor is physically thicker. The resulting pixels are supposed to be better at isolation and have a higher dynamic range.   In our tests, the iPhone 8 photos showed noticeably different colors from the iPhone 7. The images had better color saturation and more depth. Low light images had a bit less noise as well.   The biggest change to the camera is a new photo setting that is still in beta. Only available on the iPhone 8 Plus, it's an extension of the successful Portrait Mode, which used the two lenses to create a shallow depth-of-field effect. Apple has added five new settings that take advantage of the features ability to separate the subject from the background.        Overall, they need some work and take a few tries to find a sweet spot. The Studio and Contour settings subtly re-light the face and work most of the time. The more dramatic Stage Light Mono plunges your background into darkness and turns the image into a moody black and white portrait. It's fun if you want to mimic Steve Jobs' famous thinking shot, but is not great at cutting out the subject.   The early adopter who wants to look cool: Lots of glass   The iPhone 8 is sandwiched between two pieces of glass with an aluminum band circling around the edges. It's not nostalgia for the iPhone 4, which had a glass back that was just as breakable as the front. The iPhone 8 is made of glass so that it can be used with Qi chargers, and Apple claims it's much less likely to crack this time.   The result is a slightly heavier device that doesn't look much different from the 7. From the front its almost indistinguishable from the iPhone 7, though the back is clearly a different finish.   It comes in three color options, gold, silver and space gray. Gold looks less like a precious metal than pale gleaming flesh, and space gray is basically black. They all have the same water and dust resistance rating as the iPhone 7.   The serious iPhone customer: Processors and screen tricks   Inside the iPhone 8 and iPhone 8 Plus is the same powerful A11 Bionic processor as in the iPhone X. It is built to handle the heavy demands of new machine learning and augmented reality features.   The screen can now adjust its tone and white balance to match your environment — warmer and less bright at night, for example. The feature, called True Tone, was first included on the iPad Pro and works well enough that you quickly forget it exists.   Anyone happy with their phone, or waiting for the X: iOS 11   One of the most entertaining new additions to the iPhone 8 isn't even exclusive to the device: augmented reality. It's part of iOS 11, Apple's latest mobile operating system, which is available for older phones as well. iOS 11 also has a different look, a vastly improved Control Center, and a number of pleasing changes.   After testing early augmented reality apps, it's clear the feature is well executed and packs a genuine \"wow\" factor. It's most useful for games, shopping and a star gazing app that overlays constellations on the real night sky. It also offers the most enjoyable way to dissect a beating human heart in my kitchen yet.   The person who doesn't want to spend $699 and up for the iPhone 8, or $799 and up for the iPhone 8 Plus can give their existing phone a makeover by upgrading their operating system for free. And if you're holding out for the iPhone X, you can pass the next six weeks rearranging virtual Ikea furniture in your home.      CNNMoney (San Francisco)  First published September 19, 2017: 7:02 AM ET  \n"
     ]
    }
   ],
   "source": [
    "web = requests.get('http://money.cnn.com/2017/09/19/technology/gadgets/iphone-8-review/?iid=EL')\n",
    "soup=BeautifulSoup(web.text,'lxml')\n",
    "article = soup.find(\"div\",{\"id\":\"storytext\"})\n",
    "print article.text"
   ]
  },
  {
   "cell_type": "code",
   "execution_count": 38,
   "metadata": {
    "collapsed": true
   },
   "outputs": [],
   "source": [
    "import json"
   ]
  },
  {
   "cell_type": "code",
   "execution_count": 45,
   "metadata": {
    "collapsed": false
   },
   "outputs": [
    {
     "ename": "ValueError",
     "evalue": "Extra data: line 2 column 1 - line 110902 column 1 (char 119031 - 1709258109)",
     "output_type": "error",
     "traceback": [
      "\u001b[0;31m---------------------------------------------------------------------------\u001b[0m",
      "\u001b[0;31mValueError\u001b[0m                                Traceback (most recent call last)",
      "\u001b[0;32m<ipython-input-45-cd4e5787e636>\u001b[0m in \u001b[0;36m<module>\u001b[0;34m()\u001b[0m\n\u001b[1;32m      1\u001b[0m \u001b[0;32mwith\u001b[0m \u001b[0mopen\u001b[0m\u001b[0;34m(\u001b[0m\u001b[0;34m'wArticlesCleaned.json'\u001b[0m\u001b[0;34m)\u001b[0m \u001b[0;32mas\u001b[0m \u001b[0mjson_data\u001b[0m\u001b[0;34m:\u001b[0m\u001b[0;34m\u001b[0m\u001b[0m\n\u001b[0;32m----> 2\u001b[0;31m     \u001b[0md\u001b[0m \u001b[0;34m=\u001b[0m \u001b[0mjson\u001b[0m\u001b[0;34m.\u001b[0m\u001b[0mload\u001b[0m\u001b[0;34m(\u001b[0m\u001b[0mjson_data\u001b[0m\u001b[0;34m)\u001b[0m\u001b[0;34m\u001b[0m\u001b[0m\n\u001b[0m\u001b[1;32m      3\u001b[0m     \u001b[0;32mprint\u001b[0m\u001b[0;34m(\u001b[0m\u001b[0md\u001b[0m\u001b[0;34m)\u001b[0m\u001b[0;34m\u001b[0m\u001b[0m\n",
      "\u001b[0;32m/Users/jialinhu/anaconda/lib/python2.7/json/__init__.pyc\u001b[0m in \u001b[0;36mload\u001b[0;34m(fp, encoding, cls, object_hook, parse_float, parse_int, parse_constant, object_pairs_hook, **kw)\u001b[0m\n\u001b[1;32m    289\u001b[0m         \u001b[0mparse_float\u001b[0m\u001b[0;34m=\u001b[0m\u001b[0mparse_float\u001b[0m\u001b[0;34m,\u001b[0m \u001b[0mparse_int\u001b[0m\u001b[0;34m=\u001b[0m\u001b[0mparse_int\u001b[0m\u001b[0;34m,\u001b[0m\u001b[0;34m\u001b[0m\u001b[0m\n\u001b[1;32m    290\u001b[0m         \u001b[0mparse_constant\u001b[0m\u001b[0;34m=\u001b[0m\u001b[0mparse_constant\u001b[0m\u001b[0;34m,\u001b[0m \u001b[0mobject_pairs_hook\u001b[0m\u001b[0;34m=\u001b[0m\u001b[0mobject_pairs_hook\u001b[0m\u001b[0;34m,\u001b[0m\u001b[0;34m\u001b[0m\u001b[0m\n\u001b[0;32m--> 291\u001b[0;31m         **kw)\n\u001b[0m\u001b[1;32m    292\u001b[0m \u001b[0;34m\u001b[0m\u001b[0m\n\u001b[1;32m    293\u001b[0m \u001b[0;34m\u001b[0m\u001b[0m\n",
      "\u001b[0;32m/Users/jialinhu/anaconda/lib/python2.7/json/__init__.pyc\u001b[0m in \u001b[0;36mloads\u001b[0;34m(s, encoding, cls, object_hook, parse_float, parse_int, parse_constant, object_pairs_hook, **kw)\u001b[0m\n\u001b[1;32m    337\u001b[0m             \u001b[0mparse_int\u001b[0m \u001b[0;32mis\u001b[0m \u001b[0mNone\u001b[0m \u001b[0;32mand\u001b[0m \u001b[0mparse_float\u001b[0m \u001b[0;32mis\u001b[0m \u001b[0mNone\u001b[0m \u001b[0;32mand\u001b[0m\u001b[0;34m\u001b[0m\u001b[0m\n\u001b[1;32m    338\u001b[0m             parse_constant is None and object_pairs_hook is None and not kw):\n\u001b[0;32m--> 339\u001b[0;31m         \u001b[0;32mreturn\u001b[0m \u001b[0m_default_decoder\u001b[0m\u001b[0;34m.\u001b[0m\u001b[0mdecode\u001b[0m\u001b[0;34m(\u001b[0m\u001b[0ms\u001b[0m\u001b[0;34m)\u001b[0m\u001b[0;34m\u001b[0m\u001b[0m\n\u001b[0m\u001b[1;32m    340\u001b[0m     \u001b[0;32mif\u001b[0m \u001b[0mcls\u001b[0m \u001b[0;32mis\u001b[0m \u001b[0mNone\u001b[0m\u001b[0;34m:\u001b[0m\u001b[0;34m\u001b[0m\u001b[0m\n\u001b[1;32m    341\u001b[0m         \u001b[0mcls\u001b[0m \u001b[0;34m=\u001b[0m \u001b[0mJSONDecoder\u001b[0m\u001b[0;34m\u001b[0m\u001b[0m\n",
      "\u001b[0;32m/Users/jialinhu/anaconda/lib/python2.7/json/decoder.pyc\u001b[0m in \u001b[0;36mdecode\u001b[0;34m(self, s, _w)\u001b[0m\n\u001b[1;32m    365\u001b[0m         \u001b[0mend\u001b[0m \u001b[0;34m=\u001b[0m \u001b[0m_w\u001b[0m\u001b[0;34m(\u001b[0m\u001b[0ms\u001b[0m\u001b[0;34m,\u001b[0m \u001b[0mend\u001b[0m\u001b[0;34m)\u001b[0m\u001b[0;34m.\u001b[0m\u001b[0mend\u001b[0m\u001b[0;34m(\u001b[0m\u001b[0;34m)\u001b[0m\u001b[0;34m\u001b[0m\u001b[0m\n\u001b[1;32m    366\u001b[0m         \u001b[0;32mif\u001b[0m \u001b[0mend\u001b[0m \u001b[0;34m!=\u001b[0m \u001b[0mlen\u001b[0m\u001b[0;34m(\u001b[0m\u001b[0ms\u001b[0m\u001b[0;34m)\u001b[0m\u001b[0;34m:\u001b[0m\u001b[0;34m\u001b[0m\u001b[0m\n\u001b[0;32m--> 367\u001b[0;31m             \u001b[0;32mraise\u001b[0m \u001b[0mValueError\u001b[0m\u001b[0;34m(\u001b[0m\u001b[0merrmsg\u001b[0m\u001b[0;34m(\u001b[0m\u001b[0;34m\"Extra data\"\u001b[0m\u001b[0;34m,\u001b[0m \u001b[0ms\u001b[0m\u001b[0;34m,\u001b[0m \u001b[0mend\u001b[0m\u001b[0;34m,\u001b[0m \u001b[0mlen\u001b[0m\u001b[0;34m(\u001b[0m\u001b[0ms\u001b[0m\u001b[0;34m)\u001b[0m\u001b[0;34m)\u001b[0m\u001b[0;34m)\u001b[0m\u001b[0;34m\u001b[0m\u001b[0m\n\u001b[0m\u001b[1;32m    368\u001b[0m         \u001b[0;32mreturn\u001b[0m \u001b[0mobj\u001b[0m\u001b[0;34m\u001b[0m\u001b[0m\n\u001b[1;32m    369\u001b[0m \u001b[0;34m\u001b[0m\u001b[0m\n",
      "\u001b[0;31mValueError\u001b[0m: Extra data: line 2 column 1 - line 110902 column 1 (char 119031 - 1709258109)"
     ]
    }
   ],
   "source": [
    "with open('wArticlesCleaned.json') as json_data:\n",
    "    d = json.load(json_data)\n",
    "    print(d)"
   ]
  },
  {
   "cell_type": "code",
   "execution_count": 10,
   "metadata": {
    "collapsed": false
   },
   "outputs": [
    {
     "name": "stdout",
     "output_type": "stream",
     "text": [
      " Children's National Medical Center in Washington (sentence3)\n"
     ]
    }
   ],
   "source": [
    "f = open('para1.txt')\n",
    "para = f.read().split('.')\n",
    "f2=open('sentences2.txt')\n",
    "sentences=f2.read().split('.')\n",
    "print sentences[2]"
   ]
  },
  {
   "cell_type": "code",
   "execution_count": 11,
   "metadata": {
    "collapsed": true
   },
   "outputs": [],
   "source": [
    "#a very simple baseline relevancy model, we need more sofisticated ones!!\n",
    "def reward(s1,s2):\n",
    "    l1=list(s1)\n",
    "    l2=list(s2)\n",
    "    return len(list(set(l1).intersection(l2)))+1"
   ]
  },
  {
   "cell_type": "code",
   "execution_count": 13,
   "metadata": {
    "collapsed": false
   },
   "outputs": [
    {
     "name": "stdout",
     "output_type": "stream",
     "text": [
      "readed end state\n",
      "numStatesExplored = 598\n",
      "totalCost = 62.411409378\n",
      "actions = [None, None, None, None, None, None, None, None, None, None, None, None, None]\n"
     ]
    },
    {
     "data": {
      "text/plain": [
       "[['Artificial intelligence is breaking into the healthcare industry by assisting doctors'],\n",
       " ' According to Bloomberg Technology, Microsoft has developed AI to help doctors find the right treatments for cancer',\n",
       " '[207]  There is a great amount of research and drugs developed relating to cancer',\n",
       " ' In detail, there are more than 800 medicines and vaccines to treat cancer',\n",
       " ' This negatively affects the doctors, because there are too many options to choose from, making it more difficult to choose the right drugs for the patients',\n",
       " ' Microsoft is working on a project to develop a machine called \"Hanover\"',\n",
       " ' Its goal is to memorize all the papers necessary to cancer and help predict which combinations of drugs will be most effective for each patient',\n",
       " ' One project that is being worked on at the moment is fighting myeloid leukemia, a fatal cancer where the treatment has not improved in decades',\n",
       " ' Another study was reported to have found that artificial intelligence was as good as trained doctors in identifying skin cancers',\n",
       " '[208] Another study is using artificial intelligence to try and monitor multiple high-risk patients, and this is done by asking each patient numerous questions based on data acquired from live doctor to patient interactions',\n",
       " \" According to CNN, there was a recent study by surgeons at the Children's National Medical Center in Washington which successfully demonstrated surgery with an autonomous robot\",\n",
       " \" The team supervised the robot while it performed soft-tissue surgery, stitching together a pig's bowel during open surgery, and doing so better than a human surgeon, the team claimed\",\n",
       " '[210] IBM has created its own artificial intelligence computer, the IBM Watson, which has beaten human intelligence (at some levels)',\n",
       " ' Watson not only won at the game show Jeopardy! against former champions,[211] but, was declared a hero after successfully diagnosing a women who was suffering from leukemia']"
      ]
     },
     "execution_count": 13,
     "metadata": {},
     "output_type": "execute_result"
    }
   ],
   "source": [
    "#UCS search for our insertion problem!\n",
    "import util\n",
    "class InsertionProblem(util.SearchProblem):\n",
    "    def __init__(self, sentences, paragraph, reward):\n",
    "        self.sentences=sentences\n",
    "        self.para=paragraph\n",
    "        self.reward = reward\n",
    "\n",
    "    def startState(self):\n",
    "        return (self.para[0],self.para[1],tuple(sentences),0)\n",
    "\n",
    "    def isEnd(self, state):\n",
    "        return str(state[1])==str(self.para[-1]) or state[2]==None\n",
    "\n",
    "    def succAndCost(self, state):\n",
    "        succs=[]\n",
    "        for i in range(len(state[2])):\n",
    "            if state[2][i]==None:\n",
    "                nextstate=(self.para[state[3]+1],self.para[state[3]+2],state[2],state[3]+1)\n",
    "                r=200.0/(2*reward(state[0],state[1]))\n",
    "                succs.append((None,nextstate,r))\n",
    "            else:\n",
    "                choices=list(state[2][:])\n",
    "                del choices[i]\n",
    "                nextstate=(state[2][i],self.para[state[3]+1],tuple(choices),state[3])\n",
    "                r=1.0/(reward(state[0],state[2][i])+reward(state[1],state[2][i]))\n",
    "                succs.append((state[2][i],nextstate,r))\n",
    "        return succs\n",
    "\n",
    "def InsertSentences(sentences, para, reward):\n",
    "    if len(para) == 0:\n",
    "        return ''\n",
    "    ucs = util.UniformCostSearch(verbose=1)\n",
    "    sentences.append(None)\n",
    "    ucs.solve(InsertionProblem(sentences, para, reward))\n",
    "    newpara=[]\n",
    "    start=0\n",
    "    newpara.append([para[0]])\n",
    "    for e in ucs.actions:\n",
    "        if e==None:\n",
    "            start+=1\n",
    "            newpara.append(para[start])\n",
    "        else:\n",
    "            newpara.append(e)\n",
    "    return newpara\n",
    "\n",
    "InsertSentences(sentences,para,reward)"
   ]
  },
  {
   "cell_type": "code",
   "execution_count": null,
   "metadata": {
    "collapsed": false
   },
   "outputs": [],
   "source": []
  },
  {
   "cell_type": "code",
   "execution_count": null,
   "metadata": {
    "collapsed": true
   },
   "outputs": [],
   "source": []
  }
 ],
 "metadata": {
  "kernelspec": {
   "display_name": "Python 2",
   "language": "python",
   "name": "python2"
  },
  "language_info": {
   "codemirror_mode": {
    "name": "ipython",
    "version": 2
   },
   "file_extension": ".py",
   "mimetype": "text/x-python",
   "name": "python",
   "nbconvert_exporter": "python",
   "pygments_lexer": "ipython2",
   "version": "2.7.13"
  }
 },
 "nbformat": 4,
 "nbformat_minor": 2
}
