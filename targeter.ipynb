{
 "cells": [
  {
   "cell_type": "markdown",
   "metadata": {},
   "source": [
    "# CS 229 Project Milestone\n",
    "Input: A news article\n",
    "Output: (Sentences from a news article to insert, relevant Wiki articles, relevant sections within each Wiki article)\n",
    "\n",
    "1. Retrieve a CNN news article for an example\n",
    "2. Extract topics using LDA\n",
    "3. Find candidate Wikipedia articles\n",
    "4. Find closest Wikipedia articles to the news article\n",
    "\n",
    "Future work: Find relevant sections. Find relevant sentences."
   ]
  },
  {
   "cell_type": "code",
   "execution_count": 1,
   "metadata": {},
   "outputs": [
    {
     "name": "stdout",
     "output_type": "stream",
     "text": [
      "   vidConfig.push({ videoArray : [ {id : \"/video/technology/2017/09/19/iphone-8-whats-new.cnnmoney\", collection: \"\", hed : \"iPhone 8: What\\'s new?\"}, {id : \"/video/technology/gadgets/2017/09/12/apple-unveils-iphone-8-and-iphone-8-plus.cnnmoney\", collection: \"\", hed : \"Apple\\'s new iPhone 8, iPhone 8 Plus in :90\"} ], loc : 'top', autoplay : true, playerprofile : 'story', playerid : 'cvp_story_0', hedtarget : '#cnnplayer0 .cnnHeadline', divid : 'vid0' });          iPhone 8: What's new?     \n",
      "Apple has put its new iPhone 8 and iPhone 8 Plus in a tight spot.  As with pretty much every Apple upgrade, they will be the best iPhones available when they hit store shelves this Friday. But they exist in the shadow of the possibly superior iPhone X, in all its face-detecting and home-button killing glory. That more expensive device won't be available until Nov. 3, leaving many iPhone buyers wondering if they should upgrade or wait.     After a week of testing, it's clear the 4.7-inch iPhone 8 and 5.5-inch iPhone 8 Plus offer solid if moderate improvements, including better cameras, a faster processor and inductive charging. They easily could have been called the iPhone 7s and 7s Plus, but that wouldn't have been as dramatic.   Regular folks: Charging made easy      The biggest iPhone 8 change is the addition of \"wireless\" charging, which lets you rest an iPhone on a special surface to recharge it. You can still charge the iPhone 8 the old fashioned way — by sticking an Apple Lightning connector into the port at the base of the device.    In a refreshing change for Apple, it didn't add yet another proprietary technology. The iPhone 8 uses the existing Qi standard, which means it can work with third-party devices. Apple doesn't include a wireless charger with the iPhone 8. They're sold separately by companies like Mophie and Belkin, and start at around $15.   The inductive charging surfaces mostly look like coasters and plug into a wall. The phone must touch the charger, but it worked through the various iPhone cases we tested.   Related: Order an iPhone 8 today or wait for the X?   Apple (AAPL, Tech30) is not doing anything revolutionary here — a number of Samsung devices already support the Qi standard. But it feels like a real improvement over the wired charging, especially if you plop your phone down in the same spot every night before bed.   It also somewhat solves one of the iPhone 7's most vexing problems, caused by the removal of the headphone jack. Since the Lightning port is now free, you can listen to music and charge your phone at the same time again.   The photographer: Better camera sensor and new filters   The new camera sensors are still 12 megapixels, but Apple says the sensors are larger and have \"deeper\" pixels, meaning the pixel-well on the sensor is physically thicker. The resulting pixels are supposed to be better at isolation and have a higher dynamic range.   In our tests, the iPhone 8 photos showed noticeably different colors from the iPhone 7. The images had better color saturation and more depth. Low light images had a bit less noise as well.   The biggest change to the camera is a new photo setting that is still in beta. Only available on the iPhone 8 Plus, it's an extension of the successful Portrait Mode, which used the two lenses to create a shallow depth-of-field effect. Apple has added five new settings that take advantage of the features ability to separate the subject from the background.        Overall, they need some work and take a few tries to find a sweet spot. The Studio and Contour settings subtly re-light the face and work most of the time. The more dramatic Stage Light Mono plunges your background into darkness and turns the image into a moody black and white portrait. It's fun if you want to mimic Steve Jobs' famous thinking shot, but is not great at cutting out the subject.   The early adopter who wants to look cool: Lots of glass   The iPhone 8 is sandwiched between two pieces of glass with an aluminum band circling around the edges. It's not nostalgia for the iPhone 4, which had a glass back that was just as breakable as the front. The iPhone 8 is made of glass so that it can be used with Qi chargers, and Apple claims it's much less likely to crack this time.   The result is a slightly heavier device that doesn't look much different from the 7. From the front its almost indistinguishable from the iPhone 7, though the back is clearly a different finish.   It comes in three color options, gold, silver and space gray. Gold looks less like a precious metal than pale gleaming flesh, and space gray is basically black. They all have the same water and dust resistance rating as the iPhone 7.   The serious iPhone customer: Processors and screen tricks   Inside the iPhone 8 and iPhone 8 Plus is the same powerful A11 Bionic processor as in the iPhone X. It is built to handle the heavy demands of new machine learning and augmented reality features.   The screen can now adjust its tone and white balance to match your environment — warmer and less bright at night, for example. The feature, called True Tone, was first included on the iPad Pro and works well enough that you quickly forget it exists.   Anyone happy with their phone, or waiting for the X: iOS 11   One of the most entertaining new additions to the iPhone 8 isn't even exclusive to the device: augmented reality. It's part of iOS 11, Apple's latest mobile operating system, which is available for older phones as well. iOS 11 also has a different look, a vastly improved Control Center, and a number of pleasing changes.   After testing early augmented reality apps, it's clear the feature is well executed and packs a genuine \"wow\" factor. It's most useful for games, shopping and a star gazing app that overlays constellations on the real night sky. It also offers the most enjoyable way to dissect a beating human heart in my kitchen yet.   The person who doesn't want to spend $699 and up for the iPhone 8, or $799 and up for the iPhone 8 Plus can give their existing phone a makeover by upgrading their operating system for free. And if you're holding out for the iPhone X, you can pass the next six weeks rearranging virtual Ikea furniture in your home.      CNNMoney (San Francisco)  First published September 19, 2017: 7:02 AM ET  \n"
     ]
    }
   ],
   "source": [
    "import requests\n",
    "from bs4 import BeautifulSoup\n",
    "\n",
    "#def getArticle(url):\n",
    "url = 'http://money.cnn.com/2017/09/19/technology/gadgets/iphone-8-review/?iid=EL'\n",
    "web = requests.get(url)\n",
    "soup=BeautifulSoup(web.text,'lxml')\n",
    "news = soup.find(\"div\",{\"id\":\"storytext\"})\n",
    "print news.text\n",
    "#return news"
   ]
  },
  {
   "cell_type": "code",
   "execution_count": 2,
   "metadata": {},
   "outputs": [
    {
     "name": "stdout",
     "output_type": "stream",
     "text": [
      "392\n"
     ]
    }
   ],
   "source": [
    "from nltk.stem.porter import *\n",
    "from nltk.corpus import stopwords\n",
    "import string\n",
    "\n",
    "stop = stopwords.words(\"english\")\n",
    "ps = PorterStemmer()\n",
    "morestop = {\"a\", \"about\", \"above\", \"above\", \"across\", \"after\", \"afterwards\", \"again\", \"against\", \"all\", \"almost\", \"alone\", \"along\", \"already\", \"also\",\"although\",\"always\",\"am\",\"among\", \"amongst\", \"amoungst\", \"amount\",  \"an\", \"and\", \"another\", \"any\",\"anyhow\",\"anyone\",\"anything\",\"anyway\", \"anywhere\", \"are\", \"around\", \"as\",  \"at\", \"back\",\"be\",\"became\", \"because\",\"become\",\"becomes\", \"becoming\", \"been\", \"before\", \"beforehand\", \"behind\", \"being\", \"below\", \"beside\", \"besides\", \"between\", \"beyond\", \"bill\", \"both\", \"bottom\",\"but\", \"by\", \"call\", \"can\", \"cannot\", \"cant\", \"co\", \"con\", \"could\", \"couldnt\", \"cry\", \"de\", \"describe\", \"detail\", \"do\", \"done\", \"down\", \"due\", \"during\", \"each\", \"eg\", \"eight\", \"either\", \"eleven\",\"else\", \"elsewhere\", \"empty\", \"enough\", \"etc\", \"even\", \"ever\", \"every\", \"everyone\", \"everything\", \"everywhere\", \"except\", \"few\", \"fifteen\", \"fify\", \"fill\", \"find\", \"fire\", \"first\", \"five\", \"for\", \"former\", \"formerly\", \"forty\", \"found\", \"four\", \"from\", \"front\", \"full\", \"further\", \"get\", \"give\", \"go\", \"had\", \"has\", \"hasnt\", \"have\", \"he\", \"hence\", \"her\", \"here\", \"hereafter\", \"hereby\", \"herein\", \"hereupon\", \"hers\", \"herself\", \"him\", \"himself\", \"his\", \"how\", \"however\", \"hundred\", \"ie\", \"if\", \"in\", \"inc\", \"indeed\", \"interest\", \"into\", \"is\", \"it\", \"its\", \"itself\", \"keep\", \"last\", \"latter\", \"latterly\", \"least\", \"less\", \"ltd\", \"made\", \"many\", \"may\", \"me\", \"meanwhile\", \"might\", \"mill\", \"mine\", \"more\", \"moreover\", \"most\", \"mostly\", \"move\", \"much\", \"must\", \"my\", \"myself\", \"name\", \"namely\", \"neither\", \"never\", \"nevertheless\", \"next\", \"nine\", \"no\", \"nobody\", \"none\", \"noone\", \"nor\", \"not\", \"nothing\", \"now\", \"nowhere\", \"of\", \"off\", \"often\", \"on\", \"once\", \"one\", \"only\", \"onto\", \"or\", \"other\", \"others\", \"otherwise\", \"our\", \"ours\", \"ourselves\", \"out\", \"over\", \"own\",\"part\", \"per\", \"perhaps\", \"please\", \"put\", \"rather\", \"re\", \"same\", \"see\", \"seem\", \"seemed\", \"seeming\", \"seems\", \"serious\", \"several\", \"she\", \"should\", \"show\", \"side\", \"since\", \"sincere\", \"six\", \"sixty\", \"so\", \"some\", \"somehow\", \"someone\", \"something\", \"sometime\", \"sometimes\", \"somewhere\", \"still\", \"such\", \"system\", \"take\", \"ten\", \"than\", \"that\", \"the\", \"their\", \"them\", \"themselves\", \"then\", \"thence\", \"there\", \"thereafter\", \"thereby\", \"therefore\", \"therein\", \"thereupon\", \"these\", \"they\", \"thickv\", \"thin\", \"third\", \"this\", \"those\", \"though\", \"three\", \"through\", \"throughout\", \"thru\", \"thus\", \"to\", \"together\", \"too\", \"top\", \"toward\", \"towards\", \"twelve\", \"twenty\", \"two\", \"un\", \"under\", \"until\", \"up\", \"upon\", \"us\", \"very\", \"via\", \"was\", \"we\", \"well\", \"were\", \"what\", \"whatever\", \"when\", \"whence\", \"whenever\", \"where\", \"whereafter\", \"whereas\", \"whereby\", \"wherein\", \"whereupon\", \"wherever\", \"whether\", \"which\", \"while\", \"whither\", \"who\", \"whoever\", \"whole\", \"I\", \"need\", \"like\", \"whom\", \"whose\", \"why\", \"will\", \"with\", \"within\", \"without\", \"would\", \"yet\", \"you\", \"your\", \"yours\", \"yourself\", \"yourselves\", \"work\", \"use\", \"project\", \"make\", \"add\", \"look\", \"the\", \"want\", \"user\", \"looking\"}\n",
    "\n",
    "#def preprocess(text):\n",
    "vocab = set()\n",
    "for word in news.text.split():\n",
    "    word = word.lower()\n",
    "    if word in stop or word in morestop:\n",
    "        continue\n",
    "    else:\n",
    "        w = ''\n",
    "        for char in word:\n",
    "            if char not in string.punctuation:\n",
    "                w += char\n",
    "        vocab.add(w)\n",
    "vocab = list(vocab)\n",
    "#return vocab\n",
    "print(len(vocab))"
   ]
  },
  {
   "cell_type": "code",
   "execution_count": 3,
   "metadata": {},
   "outputs": [
    {
     "name": "stderr",
     "output_type": "stream",
     "text": [
      "INFO:lda:n_documents: 1\n",
      "INFO:lda:vocab_size: 392\n",
      "INFO:lda:n_words: 234416\n",
      "INFO:lda:n_topics: 20\n",
      "INFO:lda:n_iter: 1500\n",
      "INFO:lda:<0> log likelihood: -2054817\n",
      "INFO:lda:<10> log likelihood: -1912959\n",
      "INFO:lda:<20> log likelihood: -1824979\n",
      "INFO:lda:<30> log likelihood: -1766276\n",
      "INFO:lda:<40> log likelihood: -1721141\n",
      "INFO:lda:<50> log likelihood: -1688607\n",
      "INFO:lda:<60> log likelihood: -1660418\n",
      "INFO:lda:<70> log likelihood: -1639069\n",
      "INFO:lda:<80> log likelihood: -1618447\n",
      "INFO:lda:<90> log likelihood: -1601776\n",
      "INFO:lda:<100> log likelihood: -1581770\n",
      "INFO:lda:<110> log likelihood: -1567616\n",
      "INFO:lda:<120> log likelihood: -1557522\n",
      "INFO:lda:<130> log likelihood: -1544195\n",
      "INFO:lda:<140> log likelihood: -1531846\n",
      "INFO:lda:<150> log likelihood: -1524062\n",
      "INFO:lda:<160> log likelihood: -1514960\n",
      "INFO:lda:<170> log likelihood: -1506537\n",
      "INFO:lda:<180> log likelihood: -1497467\n",
      "INFO:lda:<190> log likelihood: -1490422\n",
      "INFO:lda:<200> log likelihood: -1487186\n",
      "INFO:lda:<210> log likelihood: -1485494\n",
      "INFO:lda:<220> log likelihood: -1480771\n",
      "INFO:lda:<230> log likelihood: -1476996\n",
      "INFO:lda:<240> log likelihood: -1472982\n",
      "INFO:lda:<250> log likelihood: -1470799\n",
      "INFO:lda:<260> log likelihood: -1468056\n",
      "INFO:lda:<270> log likelihood: -1465422\n",
      "INFO:lda:<280> log likelihood: -1461414\n",
      "INFO:lda:<290> log likelihood: -1462264\n",
      "INFO:lda:<300> log likelihood: -1461249\n",
      "INFO:lda:<310> log likelihood: -1459493\n",
      "INFO:lda:<320> log likelihood: -1455115\n",
      "INFO:lda:<330> log likelihood: -1454658\n",
      "INFO:lda:<340> log likelihood: -1452079\n",
      "INFO:lda:<350> log likelihood: -1449247\n",
      "INFO:lda:<360> log likelihood: -1446355\n",
      "INFO:lda:<370> log likelihood: -1443885\n",
      "INFO:lda:<380> log likelihood: -1443817\n",
      "INFO:lda:<390> log likelihood: -1443553\n",
      "INFO:lda:<400> log likelihood: -1444214\n",
      "INFO:lda:<410> log likelihood: -1442401\n",
      "INFO:lda:<420> log likelihood: -1443367\n",
      "INFO:lda:<430> log likelihood: -1441844\n",
      "INFO:lda:<440> log likelihood: -1441393\n",
      "INFO:lda:<450> log likelihood: -1438341\n",
      "INFO:lda:<460> log likelihood: -1437700\n",
      "INFO:lda:<470> log likelihood: -1437988\n",
      "INFO:lda:<480> log likelihood: -1440201\n",
      "INFO:lda:<490> log likelihood: -1441191\n",
      "INFO:lda:<500> log likelihood: -1439423\n",
      "INFO:lda:<510> log likelihood: -1440108\n",
      "INFO:lda:<520> log likelihood: -1438014\n",
      "INFO:lda:<530> log likelihood: -1435944\n",
      "INFO:lda:<540> log likelihood: -1437211\n",
      "INFO:lda:<550> log likelihood: -1439113\n",
      "INFO:lda:<560> log likelihood: -1436176\n",
      "INFO:lda:<570> log likelihood: -1436353\n",
      "INFO:lda:<580> log likelihood: -1435533\n",
      "INFO:lda:<590> log likelihood: -1437428\n",
      "INFO:lda:<600> log likelihood: -1435371\n",
      "INFO:lda:<610> log likelihood: -1434165\n",
      "INFO:lda:<620> log likelihood: -1432356\n",
      "INFO:lda:<630> log likelihood: -1432774\n",
      "INFO:lda:<640> log likelihood: -1431309\n",
      "INFO:lda:<650> log likelihood: -1430421\n",
      "INFO:lda:<660> log likelihood: -1433086\n",
      "INFO:lda:<670> log likelihood: -1431228\n",
      "INFO:lda:<680> log likelihood: -1431959\n",
      "INFO:lda:<690> log likelihood: -1432696\n",
      "INFO:lda:<700> log likelihood: -1435305\n",
      "INFO:lda:<710> log likelihood: -1437160\n",
      "INFO:lda:<720> log likelihood: -1436443\n",
      "INFO:lda:<730> log likelihood: -1436271\n",
      "INFO:lda:<740> log likelihood: -1436760\n",
      "INFO:lda:<750> log likelihood: -1437975\n",
      "INFO:lda:<760> log likelihood: -1437428\n",
      "INFO:lda:<770> log likelihood: -1438523\n",
      "INFO:lda:<780> log likelihood: -1438945\n",
      "INFO:lda:<790> log likelihood: -1439479\n",
      "INFO:lda:<800> log likelihood: -1438336\n",
      "INFO:lda:<810> log likelihood: -1437925\n",
      "INFO:lda:<820> log likelihood: -1436196\n",
      "INFO:lda:<830> log likelihood: -1437534\n",
      "INFO:lda:<840> log likelihood: -1435890\n",
      "INFO:lda:<850> log likelihood: -1439226\n",
      "INFO:lda:<860> log likelihood: -1439095\n",
      "INFO:lda:<870> log likelihood: -1439933\n",
      "INFO:lda:<880> log likelihood: -1438330\n",
      "INFO:lda:<890> log likelihood: -1437587\n",
      "INFO:lda:<900> log likelihood: -1437521\n",
      "INFO:lda:<910> log likelihood: -1436500\n",
      "INFO:lda:<920> log likelihood: -1436512\n",
      "INFO:lda:<930> log likelihood: -1435282\n",
      "INFO:lda:<940> log likelihood: -1436248\n",
      "INFO:lda:<950> log likelihood: -1433072\n",
      "INFO:lda:<960> log likelihood: -1433567\n",
      "INFO:lda:<970> log likelihood: -1433010\n",
      "INFO:lda:<980> log likelihood: -1432696\n",
      "INFO:lda:<990> log likelihood: -1434010\n",
      "INFO:lda:<1000> log likelihood: -1435308\n",
      "INFO:lda:<1010> log likelihood: -1435805\n",
      "INFO:lda:<1020> log likelihood: -1436361\n",
      "INFO:lda:<1030> log likelihood: -1437733\n",
      "INFO:lda:<1040> log likelihood: -1439191\n",
      "INFO:lda:<1050> log likelihood: -1438903\n",
      "INFO:lda:<1060> log likelihood: -1439302\n",
      "INFO:lda:<1070> log likelihood: -1437361\n",
      "INFO:lda:<1080> log likelihood: -1437599\n",
      "INFO:lda:<1090> log likelihood: -1437188\n",
      "INFO:lda:<1100> log likelihood: -1436731\n",
      "INFO:lda:<1110> log likelihood: -1432984\n",
      "INFO:lda:<1120> log likelihood: -1431435\n",
      "INFO:lda:<1130> log likelihood: -1432220\n",
      "INFO:lda:<1140> log likelihood: -1434449\n",
      "INFO:lda:<1150> log likelihood: -1433801\n",
      "INFO:lda:<1160> log likelihood: -1436499\n",
      "INFO:lda:<1170> log likelihood: -1433347\n",
      "INFO:lda:<1180> log likelihood: -1433309\n",
      "INFO:lda:<1190> log likelihood: -1435457\n",
      "INFO:lda:<1200> log likelihood: -1434074\n",
      "INFO:lda:<1210> log likelihood: -1434577\n",
      "INFO:lda:<1220> log likelihood: -1435939\n",
      "INFO:lda:<1230> log likelihood: -1434384\n",
      "INFO:lda:<1240> log likelihood: -1435443\n",
      "INFO:lda:<1250> log likelihood: -1436633\n",
      "INFO:lda:<1260> log likelihood: -1435912\n",
      "INFO:lda:<1270> log likelihood: -1435456\n",
      "INFO:lda:<1280> log likelihood: -1433805\n",
      "INFO:lda:<1290> log likelihood: -1429979\n",
      "INFO:lda:<1300> log likelihood: -1432397\n",
      "INFO:lda:<1310> log likelihood: -1431513\n",
      "INFO:lda:<1320> log likelihood: -1431120\n",
      "INFO:lda:<1330> log likelihood: -1434808\n",
      "INFO:lda:<1340> log likelihood: -1430579\n",
      "INFO:lda:<1350> log likelihood: -1430359\n",
      "INFO:lda:<1360> log likelihood: -1430840\n",
      "INFO:lda:<1370> log likelihood: -1432656\n",
      "INFO:lda:<1380> log likelihood: -1431038\n",
      "INFO:lda:<1390> log likelihood: -1430814\n",
      "INFO:lda:<1400> log likelihood: -1431956\n",
      "INFO:lda:<1410> log likelihood: -1431824\n",
      "INFO:lda:<1420> log likelihood: -1432201\n",
      "INFO:lda:<1430> log likelihood: -1429803\n",
      "INFO:lda:<1440> log likelihood: -1430950\n",
      "INFO:lda:<1450> log likelihood: -1430904\n",
      "INFO:lda:<1460> log likelihood: -1430359\n",
      "INFO:lda:<1470> log likelihood: -1430281\n",
      "INFO:lda:<1480> log likelihood: -1433068\n",
      "INFO:lda:<1490> log likelihood: -1432316\n",
      "INFO:lda:<1499> log likelihood: -1432816\n"
     ]
    },
    {
     "name": "stdout",
     "output_type": "stream",
     "text": [
      "[[u'iphone'], [u'available'], [u'well'], [u'camera'], [u'11'], [u'devices'], [u'color'], [u'biggest'], [u'cnnplayer0'], [u'subject']]\n"
     ]
    }
   ],
   "source": [
    "import lda\n",
    "import numpy as np\n",
    "\n",
    "#def extract_topics(num_topics):\n",
    "mat = np.zeros((1, len(vocab)), dtype=np.int)\n",
    "for w in range(len(vocab)):\n",
    "    for word in news.text.split():\n",
    "        word = word.lower()\n",
    "        if word in stop or word in morestop:\n",
    "            continue\n",
    "        else:\n",
    "            w = ''\n",
    "            for char in word:\n",
    "                if char not in string.punctuation:\n",
    "                    w += char\n",
    "            mat[0][vocab.index(w)] += 1\n",
    "model = lda.LDA(n_topics=20, n_iter=1500, random_state=1)\n",
    "model.fit(mat)\n",
    "topic_word = model.topic_word_\n",
    "n_top_words = 3\n",
    "num_topics = 10\n",
    "topics = []\n",
    "for i, topic_dist in enumerate(topic_word):\n",
    "    if len(topics) > num_topics-1: break\n",
    "    sub = []\n",
    "    for elem in np.argsort(topic_dist).astype(int):\n",
    "        sub.append(vocab[elem])\n",
    "    topics.append(sub[:-n_top_words+1:-1])\n",
    "print(topics)\n",
    "#return topics"
   ]
  },
  {
   "cell_type": "code",
   "execution_count": 4,
   "metadata": {},
   "outputs": [
    {
     "name": "stdout",
     "output_type": "stream",
     "text": [
      "A\n"
     ]
    }
   ],
   "source": [
    "import json\n",
    "\n",
    "#def load_wikipedia():\n",
    "path = './articles/wArticlesCleaned'\n",
    "ext = '.json'\n",
    "n_articles = 62\n",
    "# dev_lim = 50000\n",
    "\n",
    "wikipedia = []\n",
    "count = 0\n",
    "for i in range(n_articles):\n",
    "    articles = json.load(open(path + str(i) + ext))\n",
    "    for article in articles:\n",
    "#         if count == dev_lim: break\n",
    "        wikipedia.append((dict(article)['title'],dict(article)['text']))\n",
    "        count += 1\n",
    "#return wikipedia"
   ]
  },
  {
   "cell_type": "code",
   "execution_count": 5,
   "metadata": {},
   "outputs": [
    {
     "name": "stdout",
     "output_type": "stream",
     "text": [
      "1\n",
      "50001\n"
     ]
    }
   ],
   "source": [
    "import copy \n",
    "\n",
    "#def get_corpus():\n",
    "corpus = [news.text]\n",
    "titles = [soup.title]\n",
    "print len(corpus)\n",
    "\n",
    "for article in wikipedia:\n",
    "    # if article[0] in topics:\n",
    "    corpus.append(article[1])\n",
    "    titles.append(article[0])\n",
    "print len(corpus)\n",
    "#return corpus, titles"
   ]
  },
  {
   "cell_type": "code",
   "execution_count": null,
   "metadata": {
    "collapsed": true
   },
   "outputs": [],
   "source": [
    "pass"
   ]
  },
  {
   "cell_type": "code",
   "execution_count": null,
   "metadata": {
    "collapsed": true
   },
   "outputs": [],
   "source": [
    "from tfidf import TFIDF\n",
    "\n",
    "#def get_sim_docs():\n",
    "tfi = TFIDF()\n",
    "tfidf = tfi.get_tfidf(corpus)\n",
    "\n",
    "sim_docs = []\n",
    "for index, score in tfi.similar_docs(tfidf, 0, 5):\n",
    "    sim_docs.append((index, score))\n",
    "    print score, titles[index]\n",
    "\n",
    "print \"Most relevant document is \" + titles[sim_docs[0][0]]\n",
    "#return sim_docs"
   ]
  },
  {
   "cell_type": "code",
   "execution_count": null,
   "metadata": {
    "collapsed": true
   },
   "outputs": [],
   "source": []
  }
 ],
 "metadata": {
  "kernelspec": {
   "display_name": "Python 2",
   "language": "python",
   "name": "python2"
  },
  "language_info": {
   "codemirror_mode": {
    "name": "ipython",
    "version": 2
   },
   "file_extension": ".py",
   "mimetype": "text/x-python",
   "name": "python",
   "nbconvert_exporter": "python",
   "pygments_lexer": "ipython2",
   "version": "2.7.14"
  }
 },
 "nbformat": 4,
 "nbformat_minor": 2
}
