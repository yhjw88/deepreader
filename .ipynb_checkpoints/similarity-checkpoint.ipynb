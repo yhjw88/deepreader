{
 "cells": [
  {
   "cell_type": "code",
   "execution_count": 3,
   "metadata": {
    "scrolled": true
   },
   "outputs": [
    {
     "name": "stdout",
     "output_type": "stream",
     "text": [
      "5\n",
      "0.0651838589186\n"
     ]
    }
   ],
   "source": [
    "from tfidf import TFIDF\n",
    "\n",
    "corpus = [\"House Republican leaders were unable to win over a number of Republicans from high-tax states like New York and New Jersey, who have fought to preserve the deduction for state and local taxes.\", \"The House bill allows the deduction of up to $10,000 in property taxes, but that provision was not enough of a concession for them.\",\"At least five Republicans from New York and three from New Jersey had come out against the bill before Thursday’s vote.\",\"Even with the dissent from the New York and New Jersey delegations, Representative Kevin Brady, Republican of Texas and the chairman of the Ways and Means Committee, said this week that he was confident that Republicans had the votes to pass the bill.\",\"Junwon thinks tax should be deducted for his state and preserve his money.\"]\n",
    "indices = corpus.copy()\n",
    "\n",
    "print(len(corpus))\n",
    "\n",
    "tfidf = TFIDF.get_tfidf(corpus)\n",
    "\n",
    "score = TFIDF.relevancy(tfidf, indices, \"House Republican leaders were unable to win over a number of Republicans from high-tax states like New York and New Jersey, who have fought to preserve the deduction for state and local taxes.\",\"Junwon thinks tax should be deducted for his state and preserve his money.\")\n",
    "\n",
    "print(score)"
   ]
  },
  {
   "cell_type": "code",
   "execution_count": null,
   "metadata": {
    "collapsed": true
   },
   "outputs": [],
   "source": []
  }
 ],
 "metadata": {
  "kernelspec": {
   "display_name": "Python 3",
   "language": "python",
   "name": "python3"
  },
  "language_info": {
   "codemirror_mode": {
    "name": "ipython",
    "version": 3
   },
   "file_extension": ".py",
   "mimetype": "text/x-python",
   "name": "python",
   "nbconvert_exporter": "python",
   "pygments_lexer": "ipython3",
   "version": "3.6.1"
  }
 },
 "nbformat": 4,
 "nbformat_minor": 2
}
